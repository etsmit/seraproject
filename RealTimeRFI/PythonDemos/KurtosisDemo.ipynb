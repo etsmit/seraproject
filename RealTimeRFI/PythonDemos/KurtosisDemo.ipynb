{
 "cells": [
  {
   "cell_type": "markdown",
   "metadata": {},
   "source": [
    "# Kurtosis Demo\n",
    "\n",
    "Notebook for playing around and demonstrating the spectral kurtosis estimator described on the wiki.\n",
    "\n",
    "### Spectral Kurtosis Estimator"
   ]
  },
  {
   "cell_type": "code",
   "execution_count": 10,
   "metadata": {
    "collapsed": false
   },
   "outputs": [],
   "source": [
    "import math\n",
    "import numpy as np\n",
    "import scipy as sp\n",
    "import matplotlib.pyplot as plt\n",
    "#%matplotlib qt"
   ]
  },
  {
   "cell_type": "code",
   "execution_count": 4,
   "metadata": {
    "collapsed": true
   },
   "outputs": [],
   "source": [
    "#create noise\n",
    "#Should run this cell ONCE\n",
    "\n",
    "#band should be a power of 2\n",
    "band=1024\n",
    "#m should be > ~30\n",
    "m=6000\n",
    "#n should be 1, but maybe doesnt integer divide m\n",
    "n=1\n",
    "#d must be 1 for AWGN\n",
    "d=1\n",
    "\n",
    "nsamp=band*m*n\n",
    "noise_RMS=2**5\n",
    "\n",
    "#temp lists for troubleshooting\n",
    "#s1_temp=[]\n",
    "#s2_temp=[]\n",
    "#ratios=[]\n",
    "\n",
    "#create noise\n",
    "noise = np.random.normal(0.0,noise_RMS,nsamp)\n",
    "\n",
    "\n",
    "data=noise#+sin"
   ]
  },
  {
   "cell_type": "markdown",
   "metadata": {},
   "source": [
    "Now creating several sources of RFI. data=noise call in the beginning of each cell to make sure that we start with the already calculated noise values. Then, calculate and plot the SK estimator.\n",
    "\n",
    "Run any interference-generating cell below to add it to the noise. You may want to comment out the 'data=noise' line if you are adding more than one interference source."
   ]
  },
  {
   "cell_type": "code",
   "execution_count": 77,
   "metadata": {
    "collapsed": true
   },
   "outputs": [],
   "source": [
    "#data with one sin wave\n",
    "data=noise\n",
    "amp=10\n",
    "per=5\n",
    "data=noise+amp*np.sin(np.arange(nsamp)*2.0*math.pi/per)"
   ]
  },
  {
   "cell_type": "code",
   "execution_count": 60,
   "metadata": {
    "collapsed": true
   },
   "outputs": [],
   "source": [
    "#data with sin waves\n",
    "data=noise\n",
    "for per in range(10,30,2):\n",
    "    data=data+4*np.sin(np.arange(nsamp)*2.0*math.pi/per)\n",
    "#why did this cell get line numbers"
   ]
  },
  {
   "cell_type": "code",
   "execution_count": 73,
   "metadata": {
    "collapsed": false
   },
   "outputs": [],
   "source": [
    "#pulsed square wave\n",
    "\n",
    "data=noise\n",
    "\n",
    "height=100\n",
    "dcycle=0.2\n",
    "per=300\n",
    "\n",
    "#start at sample 0, go 2000 pulses for total length per*amt samples\n",
    "start=0\n",
    "amt=2000\n",
    "\n",
    "#create mask of 0's for adding pulse profile to\n",
    "mask=np.zeros(nsamp)\n",
    "\n",
    "#create series of pulses\n",
    "for sampnum in range(start,start+per*amt,per):\n",
    "    for i in range(0,int(per*dcycle)):\n",
    "        mask[sampnum+i]=mask[sampnum+i]+height\n",
    "data=noise+mask\n"
   ]
  },
  {
   "cell_type": "code",
   "execution_count": 75,
   "metadata": {
    "collapsed": false
   },
   "outputs": [],
   "source": [
    "#calculate sk\n",
    "\n",
    "#DFT on band# of time samples, adds to ints\n",
    "ints=[]\n",
    "for intnum in range(m*n):\n",
    "    temp=np.fft.fft(data[band*intnum:band*(intnum+1)])\n",
    "    temp2=temp[band//2:]#drop first half\n",
    "    ints.append(temp2.real**2+temp2.imag**2)\n",
    "ints=np.array(ints)\n",
    "#now ints contains m power spectra of arbitrary y-scale, of band/2 chans each\n",
    "\n",
    "#calculate sk estimator for each channel\n",
    "sk_est=[]\n",
    "for chan in range(band//2):\n",
    "    #make s1 and s2 as defined by whiteboard (by 2010b)\n",
    "    #s2 definition will probably throw error if n does not integer divide m\n",
    "    s1=sum(ints[:,chan])\n",
    "    s2=sum(np.sum(ints[:,chan].reshape(-1,n)**2,axis=1))\n",
    "    #-------------\n",
    "    #s1_temp.append(s1)\n",
    "    #s2_temp.append(s2)\n",
    "    #ratios.append((m*s2)/(s1**2))\n",
    "    #-------------\n",
    "    #record sk estimator\n",
    "    sk_est.append(((m*n*d+1)/(m-1))*((m*s2)/(s1**2)-1))\n",
    "    \n",
    "#sk_est now has the 'spectrum' of sk estimator values for each channel\n",
    "#plot data result in r+, with noise result underneath in g+\n",
    "plt.gcf().clear()\n",
    "plt.plot(sk_est_noise,'g+')\n",
    "plt.plot(sk_est,'r+')\n",
    "plt.xlabel('Frequency Channel')\n",
    "plt.ylabel('SK Estimator')\n",
    "plt.show()"
   ]
  },
  {
   "cell_type": "code",
   "execution_count": null,
   "metadata": {
    "collapsed": true
   },
   "outputs": [],
   "source": [
    "#run this cell after evaluating SK estimator for noise. Uses result of cell directly above\n",
    "sk_est_noise = sk_est"
   ]
  },
  {
   "cell_type": "code",
   "execution_count": 74,
   "metadata": {
    "collapsed": false
   },
   "outputs": [],
   "source": [
    "#plot time sample data\n",
    "plt.gcf().clear()\n",
    "#plt.plot(noise[1024:2048],'r+')\n",
    "plt.plot(data[1024:2048],'b+')\n",
    "plt.xlabel('Time (samples)')\n",
    "plt.ylabel('Real Voltage')\n",
    "plt.show()"
   ]
  },
  {
   "cell_type": "code",
   "execution_count": null,
   "metadata": {
    "collapsed": true
   },
   "outputs": [],
   "source": [
    "#plot histogram\n",
    "plt.gcf().clear()\n",
    "plt.hist(noise,fc=(0, 0, 1, 0.5),bins=range(-150,150,1))\n",
    "plt.hist(sinone,fc=(1, 0, 0, 0.5),bins=range(-150,150,1))"
   ]
  },
  {
   "cell_type": "markdown",
   "metadata": {},
   "source": [
    "## Computing Thresholds\n",
    "\n",
    "Taken from Nick Joslyn's helpful code\n",
    "https://github.com/NickJoslyn/helpful-BL/blob/master/helpful_BL_programs.py\n",
    "\n"
   ]
  },
  {
   "cell_type": "code",
   "execution_count": 7,
   "metadata": {
    "collapsed": false
   },
   "outputs": [
    {
     "name": "stdout",
     "output_type": "stream",
     "text": [
      "M: 6000\n",
      "N: 1\n",
      "d: 1\n"
     ]
    }
   ],
   "source": [
    "print('M: '+str(m))\n",
    "print('N: '+str(n))\n",
    "print('d: '+str(d))"
   ]
  },
  {
   "cell_type": "markdown",
   "metadata": {},
   "source": [
    "special.gammainc: Regularized Lower Incomplete Gamma Function\n",
    "https://docs.scipy.org/doc/scipy/reference/generated/scipy.special.gammainc.html\n",
    "\n",
    "optimize.newton: Find local 0 of a function\n",
    "https://docs.scipy.org/doc/scipy/reference/generated/scipy.optimize.newton.html\n",
    "\n",
    "I can't yet see how the equations in the paper translate to this, but this is replicated nearly exactly from IDL code given by the paper \"EOVSA Implementation of a Spectral Kurtosis Correlator\" https://arxiv.org/abs/1702.05391\n",
    "\n"
   ]
  },
  {
   "cell_type": "code",
   "execution_count": 11,
   "metadata": {
    "collapsed": true
   },
   "outputs": [],
   "source": [
    "\n",
    "\n",
    "def upperRoot(x, moment_2, moment_3, p):\n",
    "    upper = np.abs( (1 - sp.special.gammainc( (4 * moment_2**3)/moment_3**2, (-(moment_3-2*moment_2**2)/moment_3 + x)/(moment_3/2/moment_2)))-p)\n",
    "    return upper\n",
    "\n",
    "def lowerRoot(x, moment_2, moment_3, p):\n",
    "    lower = np.abs(sp.special.gammainc( (4 * moment_2**3)/moment_3**2, (-(moment_3-2*moment_2**2)/moment_3 + x)/(moment_3/2/moment_2))-p)\n",
    "    return lower\n",
    "\n",
    "\n",
    "\n",
    "\n",
    "def spectralKurtosis_thresholds(M, N = n, d = d, p = 0.0013499):\n",
    "\n",
    "    Nd = N * d\n",
    "\n",
    "    #Statistical moments\n",
    "    moment_1 = 1\n",
    "    moment_2 = ( 2*(M**2) * Nd * (1 + Nd) ) / ( (M - 1) * (6 + 5*M*Nd + (M**2)*(Nd**2)) )\n",
    "    moment_3 = ( 8*(M**3)*Nd * (1 + Nd) * (-2 + Nd * (-5 + M * (4+Nd))) ) / ( ((M-1)**2) * (2+M*Nd) *(3+M*Nd)*(4+M*Nd)*(5+M*Nd))\n",
    "    moment_4 = ( 12*(M**4)*Nd*(1+Nd)*(24+Nd*(48+84*Nd+M*(-32+Nd*(-245-93*Nd+M*(125+Nd*(68+M+(3+M)*Nd)))))) ) / ( ((M-1)**3)*(2+M*Nd)*(3+M*Nd)*(4+M*Nd)*(5+M*Nd)*(6+M*Nd)*(7+M*Nd) )\n",
    "    #Pearson Type III Parameters\n",
    "    delta = moment_1 - ( (2*(moment_2**2))/moment_3 )\n",
    "    beta = 4 * ( (moment_2**3)/(moment_3**2) )\n",
    "    alpha = moment_3 / (2 * moment_2)\n",
    "\n",
    "    error_4 = np.abs( (100 * 3 * beta * (2+beta) * (alpha**4)) / (moment_4 - 1) )\n",
    "    x = [1]\n",
    "    upperThreshold = sp.optimize.newton(upperRoot, x[0], args = (moment_2, moment_3, p))\n",
    "    lowerThreshold = sp.optimize.newton(lowerRoot, x[0], args = (moment_2, moment_3, p))\n",
    "    return lowerThreshold, upperThreshold"
   ]
  },
  {
   "cell_type": "code",
   "execution_count": 12,
   "metadata": {
    "collapsed": false
   },
   "outputs": [
    {
     "data": {
      "text/plain": [
       "(0.76753581349215294, 1.2821180158638763)"
      ]
     },
     "execution_count": 12,
     "metadata": {},
     "output_type": "execute_result"
    }
   ],
   "source": [
    "spectralKurtosis_thresholds(300,N=10,d=1)"
   ]
  },
  {
   "cell_type": "markdown",
   "metadata": {},
   "source": [
    "## Load in real data instead of simulated\n",
    "\n",
    "Taken from Richard's code\n",
    "\n",
    "extractChan26.py is included in the github repo, but will not be used as that requires the GbtRaw module and downloading the 128 GB data file.\n",
    "\n",
    "chan26.npy (100MB) contains the relevent data."
   ]
  },
  {
   "cell_type": "code",
   "execution_count": 2,
   "metadata": {
    "collapsed": false
   },
   "outputs": [],
   "source": [
    "#!/users/rprestag/venv/bin/python\n",
    "\n",
    "# from astropy.io import fits\n",
    "import pylab\n",
    "from matplotlib import rcParams\n",
    "\n",
    "# from GbtRaw import *\n",
    "\n",
    "def spectroFITS(array, tStart, tRes, fStart, fRes, file_name):\n",
    "    \"\"\"Writes out array as an image in a FITS file\"\"\"\n",
    "\n",
    "    # create the dynamic spectrum as the primary image\n",
    "    hdu = fits.PrimaryHDU(array)\n",
    "\n",
    "    # add the axes information\n",
    "    hdu.header['CRPIX1'] = 0.0\n",
    "    hdu.header['CRVAL1'] = tStart\n",
    "    hdu.header['CDELT1'] = tRes\n",
    "    hdu.header['CRPIX2'] = 0.0\n",
    "    hdu.header['CRVAL2'] = fStart\n",
    "    hdu.header['CDELT2'] = fRes\n",
    "\n",
    "    # create the bandpass and timeseries\n",
    "    bandpass    = np.average(array, axis=1)\n",
    "    timeseries  = np.average(array, axis=0)\n",
    "\n",
    "    # and create new image extensions with these\n",
    "    bphdu = fits.ImageHDU(bandpass,name='BANDPASS')\n",
    "    tshdu = fits.ImageHDU(timeseries,name='TIMESERIES')\n",
    "    # uodate these headers.\n",
    "    bphdu.header['CRPIX1'] = 0.0\n",
    "    bphdu.header['CRVAL1'] = fStart\n",
    "    bphdu.header['CDELT1'] = fRes\n",
    "    tshdu.header['CRPIX1'] = 0.0\n",
    "    tshdu.header['CRVAL1'] = tStart\n",
    "    tshdu.header['CDELT1'] = tRes\n",
    "\n",
    "\n",
    "    hdulist = fits.HDUList([hdu, bphdu, tshdu])\n",
    "    hdulist.writeto(file_name)\n",
    "\n",
    "def main():\n",
    "\n",
    "    rcParams.update({'figure.autolayout' : True})\n",
    "    rcParams.update({'axes.formatter.useoffset' : False})\n",
    "\n",
    "    pol = 0\n",
    "\n",
    "    # create 512 time bins of 1024 spectra, each with 32 integrations.\n",
    "    # there may be a few bytes not used.\n",
    "    nfreq = 1024\n",
    "    nint  = 32\n",
    "\n",
    "    # get the data\n",
    "    tsData = np.load(\"chan26.npy\")\n",
    "    tsLen = tsData.shape[0]\n",
    "\n",
    "    # required polarization channels                                       \n",
    "    sp = 2*pol\n",
    "    ep = sp+2\n",
    "\n",
    "\n",
    "\n",
    "    # empty list of power spectra\n",
    "    spec_list = []\n",
    "\n",
    "    print(tsLen)\n",
    "    print(nfreq * nint)\n",
    "    nspec = int(tsLen / (nfreq * nint))\n",
    "    print(\"processing \", str(nspec), \"spectra...\")\n",
    "\n",
    "\n",
    "    # do the work\n",
    "    for s in range(nspec):\n",
    "        print(\"spectrum: \", s)\n",
    "        winStart = s * (nfreq * nint)\n",
    "        accum = np.zeros(nfreq)\n",
    "        for i in range(nint):\n",
    "            start = winStart + i * nfreq\n",
    "            end = start + nfreq\n",
    "            in_arr = np.zeros((nfreq), dtype=np.complex_)\n",
    "            in_arr.real = tsData[start:end, 0]\n",
    "            in_arr.imag = tsData[start:end, 1]\n",
    "            out_arr = np.fft.fftshift(np.fft.fft(in_arr))\n",
    "            accum += np.abs(out_arr)**2\n",
    "            spec_list.append(accum/nint)\n",
    "\n",
    "\n",
    "    # convert back to numpy array and transpose to desired order\n",
    "    dyn_spec = np.transpose(np.asarray(spec_list))\n",
    "\n",
    "    # plot the results - first the spectrogram. Something is clearly wrong!\n",
    "    pylab.imshow(dyn_spec)\n",
    "    pylab.show()\n",
    "    # This should be the time series - I am not sure why it looks like this...\n",
    "    pylab.plot(np.average(dyn_spec, axis=0),\"r+\")\n",
    "    pylab.show()\n",
    "    # this is the average power-spectrum\n",
    "    pylab.plot(np.average(dyn_spec, axis=1))\n",
    "    pylab.show()\n"
   ]
  },
  {
   "cell_type": "code",
   "execution_count": null,
   "metadata": {
    "collapsed": true
   },
   "outputs": [],
   "source": []
  }
 ],
 "metadata": {
  "anaconda-cloud": {},
  "kernelspec": {
   "display_name": "Python [Root]",
   "language": "python",
   "name": "Python [Root]"
  },
  "language_info": {
   "codemirror_mode": {
    "name": "ipython",
    "version": 3
   },
   "file_extension": ".py",
   "mimetype": "text/x-python",
   "name": "python",
   "nbconvert_exporter": "python",
   "pygments_lexer": "ipython3",
   "version": "3.5.2"
  }
 },
 "nbformat": 4,
 "nbformat_minor": 2
}
